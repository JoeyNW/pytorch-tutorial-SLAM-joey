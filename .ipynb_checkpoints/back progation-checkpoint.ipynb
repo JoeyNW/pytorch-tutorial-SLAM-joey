{
 "cells": [
  {
   "cell_type": "code",
   "execution_count": null,
   "id": "46a3cb4b",
   "metadata": {},
   "outputs": [],
   "source": [
    "import numpy as np\n",
    "import torch\n",
    "\n",
    "w = torch.tensor([1.0])\n",
    "w.requires_grad = True\n",
    "\n",
    "print(w)\n",
    "print(w.data)\n",
    "print(w.type())\n",
    "print(w.data.type())\n",
    "print(w.grad)"
   ]
  },
  {
   "cell_type": "code",
   "execution_count": null,
   "id": "188361a8",
   "metadata": {},
   "outputs": [],
   "source": [
    "x_data = torch.tensor([1.0, 2.0, 3.0])\n",
    "y_data = torch.tensor([2.0, 4.0, 6.0])\n",
    "\n",
    "\n",
    "def forward(x):\n",
    "    return x * w  #w is tensor, so x -> tensor\n",
    "\n",
    "\n",
    "def loss(x, y):\n",
    "    y_pred = forward(x)\n",
    "    return (y_pred - y)**2\n",
    "\n",
    "\n",
    "print(\"predict(before training)\", 4, forward(4).item())\n",
    "\n",
    "for epoch in range(100):\n",
    "    for x, y in zip(x_data, y_data):\n",
    "        l = loss(x, y)\n",
    "        l.backward()\n",
    "        print('\\tgrad:', x, y, w.grad.item())\n",
    "        w.data = w.data - 0.01 * w.grad.data\n",
    "\n",
    "        w.grad.data.zero_()\n",
    "\n",
    "    print('progress:', epoch, l.item())\n",
    "\n",
    "print(\"predict(after training)\", 4, forward(4).item())"
   ]
  },
  {
   "cell_type": "markdown",
   "id": "a1f656cb",
   "metadata": {},
   "source": [
    "# practice"
   ]
  },
  {
   "cell_type": "code",
   "execution_count": null,
   "id": "4773f053",
   "metadata": {},
   "outputs": [],
   "source": [
    "import numpy as np\n",
    "import torch\n",
    "\n",
    "x_data = torch.tensor([1.0, 2.0, 3.0])\n",
    "y_data = torch.tensor([2.0, 4.0, 6.0]) \n",
    "\n",
    "w1 = torch.tensor([1.0])\n",
    "w1.requires_grad = True\n",
    "w2 = torch.tensor([1.0])\n",
    "w2.requires_grad = True\n",
    "b = torch.tensor([1.0])\n",
    "b.requires_grad = True\n",
    "\n",
    "def forward(x):\n",
    "    return w1*(x**2) + w2*x + b\n",
    "\n",
    "def loss(x,y):\n",
    "    y_pred = forward(x)\n",
    "    return (y_pred - y) ** 2\n",
    "\n",
    "print(\"predict (before train):\",4,forward(4))\n",
    "\n",
    "for epoch in range(100):\n",
    "    for x,y in zip(x_data,y_data):\n",
    "        l = loss(x,y)\n",
    "        l.backward()\n",
    "        print('\\tgrad:',x,y,w1.grad.item(),w2.grad.item(),b.grad.item())\n",
    "        w1.data = w1.data - 0.01*w1.grad.data\n",
    "        w2.data = w2.data - 0.01*w2.grad.data\n",
    "        b.data = b.data - 0.01*b.grad.data\n",
    "        \n",
    "        w1.grad.data.zero_()\n",
    "        w2.grad.data.zero_()\n",
    "        b.grad.data.zero_()\n",
    "    print('Epoch:',epoch,l.item())\n",
    "    \n",
    "print('predict(after training):',4,forward(4).item())"
   ]
  },
  {
   "cell_type": "code",
   "execution_count": null,
   "id": "d4630056",
   "metadata": {},
   "outputs": [],
   "source": []
  }
 ],
 "metadata": {
  "kernelspec": {
   "display_name": "Python 3",
   "language": "python",
   "name": "python3"
  },
  "language_info": {
   "codemirror_mode": {
    "name": "ipython",
    "version": 3
   },
   "file_extension": ".py",
   "mimetype": "text/x-python",
   "name": "python",
   "nbconvert_exporter": "python",
   "pygments_lexer": "ipython3",
   "version": "3.7.10"
  }
 },
 "nbformat": 4,
 "nbformat_minor": 5
}
