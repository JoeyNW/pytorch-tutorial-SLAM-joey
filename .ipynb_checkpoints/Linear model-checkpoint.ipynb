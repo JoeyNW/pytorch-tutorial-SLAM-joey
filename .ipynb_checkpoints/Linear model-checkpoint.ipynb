{
 "cells": [
  {
   "cell_type": "markdown",
   "id": "b5e01101",
   "metadata": {
    "ExecuteTime": {
     "end_time": "2021-07-22T09:14:00.055429Z",
     "start_time": "2021-07-22T09:13:56.831573Z"
    }
   },
   "source": [
    "# 课堂代码"
   ]
  },
  {
   "cell_type": "code",
   "execution_count": 2,
   "id": "e8087ffb",
   "metadata": {
    "ExecuteTime": {
     "end_time": "2021-07-22T09:14:28.981965Z",
     "start_time": "2021-07-22T09:14:28.976980Z"
    }
   },
   "outputs": [],
   "source": [
    "import numpy as np\n",
    "import matplotlib.pyplot as plt\n",
    "\n",
    "x_data = [1.0, 2.0, 3.0]\n",
    "y_data = [2.0, 4.0, 6.0]"
   ]
  },
  {
   "cell_type": "code",
   "execution_count": 8,
   "id": "c1a5db4d",
   "metadata": {
    "ExecuteTime": {
     "end_time": "2021-07-22T09:19:28.164566Z",
     "start_time": "2021-07-22T09:19:28.151599Z"
    }
   },
   "outputs": [],
   "source": [
    "# 预测函数\n",
    "def forward(x):\n",
    "    return w * x\n",
    "\n",
    "# 没有加和的均方差\n",
    "def loss(x, y):\n",
    "    y_pred = forward(x)\n",
    "    return (y_pred - y) * (y_pred - y)"
   ]
  },
  {
   "cell_type": "code",
   "execution_count": null,
   "id": "5d488faf",
   "metadata": {},
   "outputs": [],
   "source": []
  }
 ],
 "metadata": {
  "kernelspec": {
   "display_name": "Python 3",
   "language": "python",
   "name": "python3"
  },
  "language_info": {
   "codemirror_mode": {
    "name": "ipython",
    "version": 3
   },
   "file_extension": ".py",
   "mimetype": "text/x-python",
   "name": "python",
   "nbconvert_exporter": "python",
   "pygments_lexer": "ipython3",
   "version": "3.7.10"
  }
 },
 "nbformat": 4,
 "nbformat_minor": 5
}
