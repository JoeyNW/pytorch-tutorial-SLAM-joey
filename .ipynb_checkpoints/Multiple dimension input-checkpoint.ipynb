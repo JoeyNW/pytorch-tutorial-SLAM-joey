{
 "cells": [
  {
   "cell_type": "code",
   "execution_count": 20,
   "id": "7a18c5be",
   "metadata": {
    "ExecuteTime": {
     "end_time": "2021-07-29T08:47:04.814926Z",
     "start_time": "2021-07-29T08:47:04.796824Z"
    }
   },
   "outputs": [],
   "source": [
    "import numpy as np\n",
    "import torch\n",
    "import matplotlib.pyplot as plt\n",
    "\n",
    "# prepare dataset\n",
    "xy = np.loadtxt('diabetes.csv.gz', delimiter = ',', dtype = np.float32)\n",
    "x_data = torch.from_numpy(xy[:,:-1])\n",
    "y_data = torch.from_numpy(xy[:, [-1]])\n",
    "\n",
    "# design model using class\n",
    "\n",
    "class Model(torch.nn.Module):\n",
    "    def __init__(self):\n",
    "        super(Model, self).__init__()\n",
    "        self.linear1 = torch.nn.Linear(8,6)\n",
    "        self.linear2 = torch.nn.Linear(6,4)\n",
    "        self.linear3 = torch.nn.Linear(4,1)\n",
    "        self.activate = torch.nn.ReLU()\n",
    "        self.sigmoid = torch.nn.Sigmoid()\n",
    "        \n",
    "    def forward(self, x):\n",
    "        x = self.activate(self.linear1(x))\n",
    "        x = self.activate(self.linear2(x))\n",
    "        x = self.sigmoid(self.linear3(x))\n",
    "        return x\n",
    "    \n",
    "model = Model()\n",
    "\n",
    "# construct loss and optimizer\n",
    "criterion = torch.nn.BCELoss(reduction='mean')\n",
    "optimizer = torch.optim.Adam(model.parameters(), lr = 0.1)\n",
    "\n",
    "epoch_list = []\n",
    "loss_list = []"
   ]
  },
  {
   "cell_type": "code",
   "execution_count": 21,
   "id": "eadd414e",
   "metadata": {
    "ExecuteTime": {
     "end_time": "2021-07-29T08:47:51.204979Z",
     "start_time": "2021-07-29T08:47:06.541429Z"
    }
   },
   "outputs": [],
   "source": [
    "# training cycle\n",
    "for epoch in range(50000):\n",
    "    y_pred = model.forward(x_data)\n",
    "    loss = criterion(y_pred, y_data)\n",
    "#     print(epoch,loss.item())\n",
    "    epoch_list.append(epoch)\n",
    "    loss_list.append(loss.item())\n",
    "    \n",
    "    optimizer.zero_grad()\n",
    "    loss.backward()\n",
    "    \n",
    "    optimizer.step()\n",
    "    \n"
   ]
  },
  {
   "cell_type": "code",
   "execution_count": 22,
   "id": "b9a3a695",
   "metadata": {
    "ExecuteTime": {
     "end_time": "2021-07-29T08:47:53.661061Z",
     "start_time": "2021-07-29T08:47:53.544038Z"
    }
   },
   "outputs": [
    {
     "data": {
      "image/png": "[encoded data removed]",
      "text/plain": [
       "<Figure size 432x288 with 1 Axes>"
      ]
     },
     "metadata": {
      "needs_background": "light"
     },
     "output_type": "display_data"
    }
   ],
   "source": [
    "plt.plot(epoch_list, loss_list)\n",
    "plt.ylabel('loss')\n",
    "plt.xlabel('epoch')\n",
    "plt.show()"
   ]
  }
 ],
 "metadata": {
  "kernelspec": {
   "display_name": "Python 3",
   "language": "python",
   "name": "python3"
  },
  "language_info": {
   "codemirror_mode": {
    "name": "ipython",
    "version": 3
   },
   "file_extension": ".py",
   "mimetype": "text/x-python",
   "name": "python",
   "nbconvert_exporter": "python",
   "pygments_lexer": "ipython3",
   "version": "3.7.10"
  }
 },
 "nbformat": 4,
 "nbformat_minor": 5
}
