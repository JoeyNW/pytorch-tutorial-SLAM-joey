{
 "cells": [
  {
   "cell_type": "code",
   "execution_count": 28,
   "id": "86b577f2",
   "metadata": {
    "ExecuteTime": {
     "end_time": "2021-08-06T03:18:00.344983Z",
     "start_time": "2021-08-06T03:18:00.291128Z"
    }
   },
   "outputs": [
    {
     "data": {
      "text/plain": [
       "Net(\n",
       "  (conv1): Conv2d(1, 8, kernel_size=(5, 5), stride=(1, 1))\n",
       "  (conv2): Conv2d(8, 16, kernel_size=(5, 5), stride=(1, 1), padding=(2, 2))\n",
       "  (conv3): Conv2d(16, 32, kernel_size=(5, 5), stride=(1, 1), padding=(2, 2))\n",
       "  (pooling): MaxPool2d(kernel_size=2, stride=2, padding=0, dilation=1, ceil_mode=False)\n",
       "  (fc): Linear(in_features=288, out_features=10, bias=True)\n",
       ")"
      ]
     },
     "execution_count": 28,
     "metadata": {},
     "output_type": "execute_result"
    }
   ],
   "source": [
    "# use gpu\n",
    "import torch\n",
    "import torch.nn.functional as F\n",
    "import torch.optim as optim\n",
    "import matplotlib.pyplot as plt\n",
    "from torchvision import transforms\n",
    "from torchvision import datasets\n",
    "from torch.utils.data import DataLoader\n",
    "\n",
    "# prepare dataset\n",
    "batch_size = 64\n",
    "transform = transforms.Compose([transforms.ToTensor(), transforms.Normalize((0.1307,), (0.3081,))])\n",
    "\n",
    "train_dataset = datasets.MNIST(root='data/mnist/', train=True, download=True, transform=transform)\n",
    "train_loader = DataLoader(train_dataset, shuffle=True, batch_size=batch_size)\n",
    "test_dataset = datasets.MNIST(root='data/mnist/', train=False, download=True, transform=transform)\n",
    "test_loader = DataLoader(test_dataset, shuffle=False, batch_size=batch_size)\n",
    "\n",
    "#design model\n",
    "class Net(torch.nn.Module):\n",
    "    def __init__(self):\n",
    "        super(Net, self).__init__()\n",
    "        self.conv1 = torch.nn.Conv2d(1, 8, kernel_size=5)\n",
    "        self.conv2 = torch.nn.Conv2d(8, 16, kernel_size=5,padding=2)\n",
    "        self.conv3 = torch.nn.Conv2d(16, 32, kernel_size=5,padding=2)\n",
    "        self.pooling = torch.nn.MaxPool2d(2)\n",
    "        self.fc = torch.nn.Linear(288, 10) # 32*3*3\n",
    "# 第一次先把注释内的代码取消注释，并把 x = self.fc(x)注释掉，\n",
    "# 在最后输出的结果内讲self.fc第一个参数填上去（如最后一个xsize为[64,120]，就填120，\n",
    "# 因为第一个数据值是batch_size）     \n",
    "    def forward(self, x):\n",
    "        batch_size = x.size(0)\n",
    "        x = F.relu(self.pooling(self.conv1(x)))\n",
    "#         print(x.size())\n",
    "        x = F.relu(self.pooling(self.conv2(x)))\n",
    "#         print(x.size())\n",
    "        x = F.relu(self.pooling(self.conv3(x)))\n",
    "#         print(x.size())\n",
    "        x = x.view(batch_size, -1)\n",
    "#         print(x.size())\n",
    "        x = self.fc(x)\n",
    "        return x\n",
    "\n",
    "model = Net()\n",
    "device = torch.device('cuda' if torch.cuda.is_available() else \"cpu\")\n",
    "model.to(device)"
   ]
  },
  {
   "cell_type": "code",
   "execution_count": 29,
   "id": "45b11ad8",
   "metadata": {
    "ExecuteTime": {
     "end_time": "2021-08-06T03:18:03.045547Z",
     "start_time": "2021-08-06T03:18:03.034576Z"
    }
   },
   "outputs": [],
   "source": [
    "# construct loss and optimizer\n",
    "criterion = torch.nn.CrossEntropyLoss()\n",
    "optimizer = optim.SGD(model.parameters(), lr=0.01, momentum=0.5)\n",
    "\n",
    "# training cycle forward, backward, update\n",
    "def train(epoch):\n",
    "    running_loss = 0.0\n",
    "    for batch_idx, data in enumerate(train_loader, 0):\n",
    "        inputs, target = data\n",
    "        inputs, target = inputs.to(device), target.to(device)\n",
    "        optimizer.zero_grad()\n",
    "        \n",
    "        outputs = model(inputs)\n",
    "        loss = criterion(outputs, target)\n",
    "        loss.backward()\n",
    "        optimizer.step()\n",
    "        \n",
    "        running_loss += loss.item()\n",
    "        if batch_idx % 300 == 299:\n",
    "            print('[%d, %5d] loss: %.3f' % (epoch+1, batch_idx+1, running_loss/300))\n",
    "            running_loss = 0.0\n",
    "\n",
    "def test():\n",
    "    correct = 0\n",
    "    total = 0\n",
    "    with torch.no_grad():\n",
    "        for data in test_loader:\n",
    "            images, labels = data\n",
    "            images, labels = images.to(device), labels.to(device)\n",
    "            outputs = model(images)\n",
    "            _, predicted = torch.max(outputs.data, dim=1)\n",
    "            total += labels.size(0)\n",
    "            correct += (predicted == labels).sum().item()\n",
    "    print('accuracy on test set: %d %%' % (100*correct/total))\n",
    "    return correct/total"
   ]
  },
  {
   "cell_type": "code",
   "execution_count": 30,
   "id": "fe72802d",
   "metadata": {
    "ExecuteTime": {
     "end_time": "2021-08-06T03:20:09.512143Z",
     "start_time": "2021-08-06T03:18:04.910460Z"
    },
    "scrolled": false
   },
   "outputs": [
    {
     "name": "stdout",
     "output_type": "stream",
     "text": [
      "[1,   300] loss: 1.213\n",
      "[1,   600] loss: 0.202\n",
      "[1,   900] loss: 0.137\n",
      "accuracy on test set: 96 %\n",
      "[2,   300] loss: 0.107\n",
      "[2,   600] loss: 0.088\n",
      "[2,   900] loss: 0.079\n",
      "accuracy on test set: 97 %\n",
      "[3,   300] loss: 0.072\n",
      "[3,   600] loss: 0.067\n",
      "[3,   900] loss: 0.061\n",
      "accuracy on test set: 97 %\n",
      "[4,   300] loss: 0.057\n",
      "[4,   600] loss: 0.050\n",
      "[4,   900] loss: 0.056\n",
      "accuracy on test set: 98 %\n",
      "[5,   300] loss: 0.049\n",
      "[5,   600] loss: 0.043\n",
      "[5,   900] loss: 0.045\n",
      "accuracy on test set: 98 %\n",
      "[6,   300] loss: 0.037\n",
      "[6,   600] loss: 0.040\n",
      "[6,   900] loss: 0.040\n",
      "accuracy on test set: 98 %\n",
      "[7,   300] loss: 0.031\n",
      "[7,   600] loss: 0.038\n",
      "[7,   900] loss: 0.035\n",
      "accuracy on test set: 98 %\n",
      "[8,   300] loss: 0.031\n",
      "[8,   600] loss: 0.030\n",
      "[8,   900] loss: 0.032\n",
      "accuracy on test set: 98 %\n",
      "[9,   300] loss: 0.027\n",
      "[9,   600] loss: 0.027\n",
      "[9,   900] loss: 0.031\n",
      "accuracy on test set: 98 %\n",
      "[10,   300] loss: 0.025\n",
      "[10,   600] loss: 0.025\n",
      "[10,   900] loss: 0.027\n",
      "accuracy on test set: 99 %\n"
     ]
    },
    {
     "data": {
      "image/png": "[encoded data removed]",
      "text/plain": [
       "<Figure size 432x288 with 1 Axes>"
      ]
     },
     "metadata": {
      "needs_background": "light"
     },
     "output_type": "display_data"
    }
   ],
   "source": [
    "epoch_list = []\n",
    "acc_list = []\n",
    "\n",
    "for epoch in range(10):\n",
    "    train(epoch)\n",
    "    acc = test()\n",
    "    epoch_list.append(epoch)\n",
    "    acc_list.append(acc)\n",
    "    \n",
    "plt.plot(epoch_list, acc_list)\n",
    "plt.ylabel('accuracy')\n",
    "plt.xlabel('epoch')\n",
    "plt.show()"
   ]
  }
 ],
 "metadata": {
  "kernelspec": {
   "display_name": "Python 3",
   "language": "python",
   "name": "python3"
  },
  "language_info": {
   "codemirror_mode": {
    "name": "ipython",
    "version": 3
   },
   "file_extension": ".py",
   "mimetype": "text/x-python",
   "name": "python",
   "nbconvert_exporter": "python",
   "pygments_lexer": "ipython3",
   "version": "3.7.10"
  }
 },
 "nbformat": 4,
 "nbformat_minor": 5
}
